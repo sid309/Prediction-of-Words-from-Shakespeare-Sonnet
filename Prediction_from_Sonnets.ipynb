{
  "nbformat": 4,
  "nbformat_minor": 0,
  "metadata": {
    "accelerator": "GPU",
    "colab": {
      "name": "Prediction from Sonnets.ipynb",
      "provenance": []
    },
    "kernelspec": {
      "display_name": "Python 3",
      "name": "python3"
    },
    "language_info": {
      "name": "python"
    }
  },
  "cells": [
    {
      "cell_type": "code",
      "metadata": {
        "id": "pEGVI2H_H_eB"
      },
      "source": [
        "from tensorflow.keras.preprocessing.sequence import pad_sequences\n",
        "from tensorflow.keras.layers import Embedding, LSTM, Dense, Dropout, Bidirectional\n",
        "from tensorflow.keras.preprocessing.text import Tokenizer\n",
        "from tensorflow.keras.models import Sequential\n",
        "from tensorflow.keras.optimizers import Adam\n",
        "from tensorflow.keras import regularizers\n",
        "import tensorflow.keras.utils as ku \n",
        "import numpy as np "
      ],
      "execution_count": 2,
      "outputs": []
    },
    {
      "cell_type": "code",
      "metadata": {
        "id": "PaSe87UqI8VS"
      },
      "source": [
        "tokenizer=Tokenizer()"
      ],
      "execution_count": 3,
      "outputs": []
    },
    {
      "cell_type": "code",
      "metadata": {
        "colab": {
          "base_uri": "https://localhost:8080/"
        },
        "id": "hBq9zpr6JBAI",
        "outputId": "84185f10-8dd6-458d-8e93-d0409771b859"
      },
      "source": [
        "!gdown --id 108jAePKK4R3BVYBbYJZ32JWUwxeMg20K"
      ],
      "execution_count": 4,
      "outputs": [
        {
          "output_type": "stream",
          "text": [
            "Downloading...\n",
            "From: https://drive.google.com/uc?id=108jAePKK4R3BVYBbYJZ32JWUwxeMg20K\n",
            "To: /content/sonnets.txt\n",
            "\r  0% 0.00/93.6k [00:00<?, ?B/s]\r100% 93.6k/93.6k [00:00<00:00, 35.5MB/s]\n"
          ],
          "name": "stdout"
        }
      ]
    },
    {
      "cell_type": "code",
      "metadata": {
        "id": "X-PF9E1_JDBN"
      },
      "source": [
        "data=open('/content/sonnets.txt').read()\n",
        "corpus=data.lower().split('\\n')"
      ],
      "execution_count": 5,
      "outputs": []
    },
    {
      "cell_type": "code",
      "metadata": {
        "id": "Eke-16fJJuzu"
      },
      "source": [
        "tokenizer.fit_on_texts(corpus)\n",
        "total_words=len(tokenizer.word_index)+1"
      ],
      "execution_count": 6,
      "outputs": []
    },
    {
      "cell_type": "code",
      "metadata": {
        "id": "N43JBNLTJ49U"
      },
      "source": [
        "input_sequences=[]\n",
        "for line in corpus:\n",
        "\ttoken_list = tokenizer.texts_to_sequences([line])[0]\n",
        "\tfor i in range(1, len(token_list)):\n",
        "\t\tn_gram_sequence = token_list[:i+1]\n",
        "\t\tinput_sequences.append(n_gram_sequence)\n",
        "\n",
        "max_sequence_len = max([len(x) for x in input_sequences])\n",
        "input_sequences = np.array(pad_sequences(input_sequences, maxlen=max_sequence_len, padding='pre'))\n",
        "\n",
        "predictors, label = input_sequences[:,:-1],input_sequences[:,-1]\n",
        "\n",
        "label = ku.to_categorical(label, num_classes=total_words)"
      ],
      "execution_count": 7,
      "outputs": []
    },
    {
      "cell_type": "code",
      "metadata": {
        "colab": {
          "base_uri": "https://localhost:8080/"
        },
        "id": "_to8EwKEK4wZ",
        "outputId": "cde27925-6e06-442f-a5d9-635c67706d2c"
      },
      "source": [
        "model = Sequential()\n",
        "model.add(Embedding(total_words,100,input_length=max_sequence_len-1))\n",
        "model.add(Bidirectional(LSTM(150,return_sequences=True)))\n",
        "model.add(Dropout(0.2))\n",
        "model.add(LSTM(100))\n",
        "model.add(Dense(total_words//2,activation='relu',kernel_regularizer=regularizers.l2(0.01)))\n",
        "model.add(Dense(total_words,activation='softmax'))\n",
        "model.compile(loss='categorical_crossentropy',optimizer='adam',metrics=['accuracy'])\n",
        "print(model.summary())"
      ],
      "execution_count": 8,
      "outputs": [
        {
          "output_type": "stream",
          "text": [
            "Model: \"sequential\"\n",
            "_________________________________________________________________\n",
            "Layer (type)                 Output Shape              Param #   \n",
            "=================================================================\n",
            "embedding (Embedding)        (None, 10, 100)           321100    \n",
            "_________________________________________________________________\n",
            "bidirectional (Bidirectional (None, 10, 300)           301200    \n",
            "_________________________________________________________________\n",
            "dropout (Dropout)            (None, 10, 300)           0         \n",
            "_________________________________________________________________\n",
            "lstm_1 (LSTM)                (None, 100)               160400    \n",
            "_________________________________________________________________\n",
            "dense (Dense)                (None, 1605)              162105    \n",
            "_________________________________________________________________\n",
            "dense_1 (Dense)              (None, 3211)              5156866   \n",
            "=================================================================\n",
            "Total params: 6,101,671\n",
            "Trainable params: 6,101,671\n",
            "Non-trainable params: 0\n",
            "_________________________________________________________________\n",
            "None\n"
          ],
          "name": "stdout"
        }
      ]
    },
    {
      "cell_type": "code",
      "metadata": {
        "colab": {
          "base_uri": "https://localhost:8080/"
        },
        "id": "FzNSR5TWMwqx",
        "outputId": "8091ceb9-faaa-4167-d2ca-1e553cd64766"
      },
      "source": [
        " history = model.fit(predictors, label, epochs=100, verbose=1)"
      ],
      "execution_count": 9,
      "outputs": [
        {
          "output_type": "stream",
          "text": [
            "Epoch 1/100\n",
            "484/484 [==============================] - 21s 25ms/step - loss: 6.9092 - accuracy: 0.0217\n",
            "Epoch 2/100\n",
            "484/484 [==============================] - 12s 25ms/step - loss: 6.4958 - accuracy: 0.0210\n",
            "Epoch 3/100\n",
            "484/484 [==============================] - 12s 25ms/step - loss: 6.3998 - accuracy: 0.0242\n",
            "Epoch 4/100\n",
            "484/484 [==============================] - 12s 25ms/step - loss: 6.2792 - accuracy: 0.0281\n",
            "Epoch 5/100\n",
            "484/484 [==============================] - 12s 24ms/step - loss: 6.1793 - accuracy: 0.0345\n",
            "Epoch 6/100\n",
            "484/484 [==============================] - 12s 24ms/step - loss: 6.0976 - accuracy: 0.0391\n",
            "Epoch 7/100\n",
            "484/484 [==============================] - 12s 24ms/step - loss: 6.0212 - accuracy: 0.0422\n",
            "Epoch 8/100\n",
            "484/484 [==============================] - 12s 24ms/step - loss: 5.9430 - accuracy: 0.0442\n",
            "Epoch 9/100\n",
            "484/484 [==============================] - 11s 24ms/step - loss: 5.8520 - accuracy: 0.0498\n",
            "Epoch 10/100\n",
            "484/484 [==============================] - 12s 24ms/step - loss: 5.7525 - accuracy: 0.0518\n",
            "Epoch 11/100\n",
            "484/484 [==============================] - 12s 24ms/step - loss: 5.6515 - accuracy: 0.0594\n",
            "Epoch 12/100\n",
            "484/484 [==============================] - 12s 24ms/step - loss: 5.5448 - accuracy: 0.0670\n",
            "Epoch 13/100\n",
            "484/484 [==============================] - 12s 24ms/step - loss: 5.4376 - accuracy: 0.0722\n",
            "Epoch 14/100\n",
            "484/484 [==============================] - 12s 24ms/step - loss: 5.3366 - accuracy: 0.0790\n",
            "Epoch 15/100\n",
            "484/484 [==============================] - 12s 24ms/step - loss: 5.2342 - accuracy: 0.0890\n",
            "Epoch 16/100\n",
            "484/484 [==============================] - 12s 24ms/step - loss: 5.1316 - accuracy: 0.0972\n",
            "Epoch 17/100\n",
            "484/484 [==============================] - 12s 24ms/step - loss: 5.0278 - accuracy: 0.1028\n",
            "Epoch 18/100\n",
            "484/484 [==============================] - 12s 24ms/step - loss: 4.9280 - accuracy: 0.1111\n",
            "Epoch 19/100\n",
            "484/484 [==============================] - 12s 24ms/step - loss: 4.8244 - accuracy: 0.1233\n",
            "Epoch 20/100\n",
            "484/484 [==============================] - 11s 24ms/step - loss: 4.7258 - accuracy: 0.1312\n",
            "Epoch 21/100\n",
            "484/484 [==============================] - 11s 24ms/step - loss: 4.6217 - accuracy: 0.1394\n",
            "Epoch 22/100\n",
            "484/484 [==============================] - 12s 24ms/step - loss: 4.5248 - accuracy: 0.1517\n",
            "Epoch 23/100\n",
            "484/484 [==============================] - 11s 24ms/step - loss: 4.4276 - accuracy: 0.1610\n",
            "Epoch 24/100\n",
            "484/484 [==============================] - 11s 24ms/step - loss: 4.3263 - accuracy: 0.1733\n",
            "Epoch 25/100\n",
            "484/484 [==============================] - 12s 24ms/step - loss: 4.2251 - accuracy: 0.1845\n",
            "Epoch 26/100\n",
            "484/484 [==============================] - 12s 24ms/step - loss: 4.1275 - accuracy: 0.1954\n",
            "Epoch 27/100\n",
            "484/484 [==============================] - 12s 24ms/step - loss: 4.0327 - accuracy: 0.2128\n",
            "Epoch 28/100\n",
            "484/484 [==============================] - 12s 24ms/step - loss: 3.9393 - accuracy: 0.2273\n",
            "Epoch 29/100\n",
            "484/484 [==============================] - 12s 24ms/step - loss: 3.8385 - accuracy: 0.2406\n",
            "Epoch 30/100\n",
            "484/484 [==============================] - 12s 24ms/step - loss: 3.7476 - accuracy: 0.2545\n",
            "Epoch 31/100\n",
            "484/484 [==============================] - 12s 24ms/step - loss: 3.6583 - accuracy: 0.2714\n",
            "Epoch 32/100\n",
            "484/484 [==============================] - 12s 24ms/step - loss: 3.5673 - accuracy: 0.2929\n",
            "Epoch 33/100\n",
            "484/484 [==============================] - 11s 24ms/step - loss: 3.4748 - accuracy: 0.3128\n",
            "Epoch 34/100\n",
            "484/484 [==============================] - 11s 23ms/step - loss: 3.3818 - accuracy: 0.3294\n",
            "Epoch 35/100\n",
            "484/484 [==============================] - 11s 23ms/step - loss: 3.3113 - accuracy: 0.3476\n",
            "Epoch 36/100\n",
            "484/484 [==============================] - 11s 24ms/step - loss: 3.2276 - accuracy: 0.3661\n",
            "Epoch 37/100\n",
            "484/484 [==============================] - 11s 24ms/step - loss: 3.1483 - accuracy: 0.3842\n",
            "Epoch 38/100\n",
            "484/484 [==============================] - 11s 24ms/step - loss: 3.0648 - accuracy: 0.3987\n",
            "Epoch 39/100\n",
            "484/484 [==============================] - 11s 23ms/step - loss: 2.9930 - accuracy: 0.4198\n",
            "Epoch 40/100\n",
            "484/484 [==============================] - 11s 23ms/step - loss: 2.9241 - accuracy: 0.4331\n",
            "Epoch 41/100\n",
            "484/484 [==============================] - 11s 24ms/step - loss: 2.8625 - accuracy: 0.4466\n",
            "Epoch 42/100\n",
            "484/484 [==============================] - 11s 24ms/step - loss: 2.7862 - accuracy: 0.4662\n",
            "Epoch 43/100\n",
            "484/484 [==============================] - 11s 23ms/step - loss: 2.7232 - accuracy: 0.4772\n",
            "Epoch 44/100\n",
            "484/484 [==============================] - 11s 23ms/step - loss: 2.6679 - accuracy: 0.4900\n",
            "Epoch 45/100\n",
            "484/484 [==============================] - 11s 23ms/step - loss: 2.6126 - accuracy: 0.5055\n",
            "Epoch 46/100\n",
            "484/484 [==============================] - 11s 23ms/step - loss: 2.5518 - accuracy: 0.5152\n",
            "Epoch 47/100\n",
            "484/484 [==============================] - 11s 23ms/step - loss: 2.4862 - accuracy: 0.5341\n",
            "Epoch 48/100\n",
            "484/484 [==============================] - 11s 23ms/step - loss: 2.4370 - accuracy: 0.5437\n",
            "Epoch 49/100\n",
            "484/484 [==============================] - 11s 23ms/step - loss: 2.3764 - accuracy: 0.5556\n",
            "Epoch 50/100\n",
            "484/484 [==============================] - 11s 23ms/step - loss: 2.3337 - accuracy: 0.5639\n",
            "Epoch 51/100\n",
            "484/484 [==============================] - 11s 23ms/step - loss: 2.2902 - accuracy: 0.5741\n",
            "Epoch 52/100\n",
            "484/484 [==============================] - 11s 24ms/step - loss: 2.2263 - accuracy: 0.5936\n",
            "Epoch 53/100\n",
            "484/484 [==============================] - 11s 23ms/step - loss: 2.1918 - accuracy: 0.6008\n",
            "Epoch 54/100\n",
            "484/484 [==============================] - 11s 24ms/step - loss: 2.1572 - accuracy: 0.6081\n",
            "Epoch 55/100\n",
            "484/484 [==============================] - 11s 24ms/step - loss: 2.1149 - accuracy: 0.6148\n",
            "Epoch 56/100\n",
            "484/484 [==============================] - 11s 24ms/step - loss: 2.0584 - accuracy: 0.6312\n",
            "Epoch 57/100\n",
            "484/484 [==============================] - 11s 23ms/step - loss: 2.0233 - accuracy: 0.6358\n",
            "Epoch 58/100\n",
            "484/484 [==============================] - 11s 23ms/step - loss: 1.9859 - accuracy: 0.6443\n",
            "Epoch 59/100\n",
            "484/484 [==============================] - 11s 23ms/step - loss: 1.9521 - accuracy: 0.6513\n",
            "Epoch 60/100\n",
            "484/484 [==============================] - 11s 23ms/step - loss: 1.9258 - accuracy: 0.6561\n",
            "Epoch 61/100\n",
            "484/484 [==============================] - 11s 24ms/step - loss: 1.8809 - accuracy: 0.6672\n",
            "Epoch 62/100\n",
            "484/484 [==============================] - 11s 24ms/step - loss: 1.8566 - accuracy: 0.6700\n",
            "Epoch 63/100\n",
            "484/484 [==============================] - 11s 23ms/step - loss: 1.8311 - accuracy: 0.6759\n",
            "Epoch 64/100\n",
            "484/484 [==============================] - 11s 24ms/step - loss: 1.7860 - accuracy: 0.6808\n",
            "Epoch 65/100\n",
            "484/484 [==============================] - 11s 24ms/step - loss: 1.7559 - accuracy: 0.6889\n",
            "Epoch 66/100\n",
            "484/484 [==============================] - 11s 23ms/step - loss: 1.7295 - accuracy: 0.6931\n",
            "Epoch 67/100\n",
            "484/484 [==============================] - 11s 24ms/step - loss: 1.7050 - accuracy: 0.7035\n",
            "Epoch 68/100\n",
            "484/484 [==============================] - 11s 23ms/step - loss: 1.6875 - accuracy: 0.7028\n",
            "Epoch 69/100\n",
            "484/484 [==============================] - 11s 23ms/step - loss: 1.6477 - accuracy: 0.7114\n",
            "Epoch 70/100\n",
            "484/484 [==============================] - 11s 23ms/step - loss: 1.6274 - accuracy: 0.7160\n",
            "Epoch 71/100\n",
            "484/484 [==============================] - 11s 24ms/step - loss: 1.6004 - accuracy: 0.7231\n",
            "Epoch 72/100\n",
            "484/484 [==============================] - 11s 23ms/step - loss: 1.5741 - accuracy: 0.7284\n",
            "Epoch 73/100\n",
            "484/484 [==============================] - 11s 23ms/step - loss: 1.5584 - accuracy: 0.7269\n",
            "Epoch 74/100\n",
            "484/484 [==============================] - 11s 23ms/step - loss: 1.5390 - accuracy: 0.7335\n",
            "Epoch 75/100\n",
            "484/484 [==============================] - 11s 24ms/step - loss: 1.5184 - accuracy: 0.7355\n",
            "Epoch 76/100\n",
            "484/484 [==============================] - 11s 24ms/step - loss: 1.4888 - accuracy: 0.7434\n",
            "Epoch 77/100\n",
            "484/484 [==============================] - 11s 23ms/step - loss: 1.4784 - accuracy: 0.7443\n",
            "Epoch 78/100\n",
            "484/484 [==============================] - 11s 24ms/step - loss: 1.4588 - accuracy: 0.7412\n",
            "Epoch 79/100\n",
            "484/484 [==============================] - 11s 24ms/step - loss: 1.4394 - accuracy: 0.7526\n",
            "Epoch 80/100\n",
            "484/484 [==============================] - 11s 24ms/step - loss: 1.4157 - accuracy: 0.7593\n",
            "Epoch 81/100\n",
            "484/484 [==============================] - 11s 24ms/step - loss: 1.3994 - accuracy: 0.7616\n",
            "Epoch 82/100\n",
            "484/484 [==============================] - 11s 24ms/step - loss: 1.3821 - accuracy: 0.7616\n",
            "Epoch 83/100\n",
            "484/484 [==============================] - 11s 24ms/step - loss: 1.3704 - accuracy: 0.7640\n",
            "Epoch 84/100\n",
            "484/484 [==============================] - 11s 23ms/step - loss: 1.3578 - accuracy: 0.7663\n",
            "Epoch 85/100\n",
            "484/484 [==============================] - 11s 24ms/step - loss: 1.3305 - accuracy: 0.7712\n",
            "Epoch 86/100\n",
            "484/484 [==============================] - 11s 24ms/step - loss: 1.3222 - accuracy: 0.7710\n",
            "Epoch 87/100\n",
            "484/484 [==============================] - 11s 23ms/step - loss: 1.3079 - accuracy: 0.7746\n",
            "Epoch 88/100\n",
            "484/484 [==============================] - 11s 24ms/step - loss: 1.3046 - accuracy: 0.7750\n",
            "Epoch 89/100\n",
            "484/484 [==============================] - 11s 24ms/step - loss: 1.2862 - accuracy: 0.7747\n",
            "Epoch 90/100\n",
            "484/484 [==============================] - 11s 24ms/step - loss: 1.2607 - accuracy: 0.7831\n",
            "Epoch 91/100\n",
            "484/484 [==============================] - 11s 24ms/step - loss: 1.2550 - accuracy: 0.7822\n",
            "Epoch 92/100\n",
            "484/484 [==============================] - 11s 24ms/step - loss: 1.2500 - accuracy: 0.7846\n",
            "Epoch 93/100\n",
            "484/484 [==============================] - 11s 23ms/step - loss: 1.2315 - accuracy: 0.7873\n",
            "Epoch 94/100\n",
            "484/484 [==============================] - 11s 24ms/step - loss: 1.2142 - accuracy: 0.7921\n",
            "Epoch 95/100\n",
            "484/484 [==============================] - 11s 24ms/step - loss: 1.2224 - accuracy: 0.7875\n",
            "Epoch 96/100\n",
            "484/484 [==============================] - 11s 24ms/step - loss: 1.1942 - accuracy: 0.7914\n",
            "Epoch 97/100\n",
            "484/484 [==============================] - 12s 24ms/step - loss: 1.1975 - accuracy: 0.7901\n",
            "Epoch 98/100\n",
            "484/484 [==============================] - 12s 24ms/step - loss: 1.1826 - accuracy: 0.7937\n",
            "Epoch 99/100\n",
            "484/484 [==============================] - 11s 24ms/step - loss: 1.1654 - accuracy: 0.7988\n",
            "Epoch 100/100\n",
            "484/484 [==============================] - 11s 24ms/step - loss: 1.1673 - accuracy: 0.7948\n"
          ],
          "name": "stdout"
        }
      ]
    },
    {
      "cell_type": "code",
      "metadata": {
        "colab": {
          "base_uri": "https://localhost:8080/",
          "height": 545
        },
        "id": "6zGz2EzzNDeB",
        "outputId": "b6456579-eaaa-40e5-c8e3-6b237f6a3944"
      },
      "source": [
        "import matplotlib.pyplot as plt\n",
        "acc = history.history['accuracy']\n",
        "loss = history.history['loss']\n",
        "\n",
        "epochs = range(len(acc))\n",
        "\n",
        "plt.plot(epochs, acc, 'b', label='Training accuracy')\n",
        "plt.title('Training accuracy')\n",
        "\n",
        "plt.figure()\n",
        "\n",
        "plt.plot(epochs, loss, 'b', label='Training Loss')\n",
        "plt.title('Training loss')\n",
        "plt.legend()\n",
        "\n",
        "plt.show()"
      ],
      "execution_count": 10,
      "outputs": [
        {
          "output_type": "display_data",
          "data": {
            "image/png": "[encoded data removed]",
            "text/plain": [
              "<Figure size 432x288 with 1 Axes>"
            ]
          },
          "metadata": {
            "needs_background": "light"
          }
        },
        {
          "output_type": "display_data",
          "data": {
            "image/png": "[encoded data removed]",
            "text/plain": [
              "<Figure size 432x288 with 1 Axes>"
            ]
          },
          "metadata": {
            "needs_background": "light"
          }
        }
      ]
    },
    {
      "cell_type": "code",
      "metadata": {
        "colab": {
          "base_uri": "https://localhost:8080/"
        },
        "id": "vXSrgCrvNLqi",
        "outputId": "1e9276e4-99e1-4069-9c7e-980f7ed07067"
      },
      "source": [
        "seed_text = \"Help me Obi Wan Kenobi, you're my only hope\"\n",
        "next_words = 100\n",
        "  \n",
        "for _ in range(next_words):\n",
        "\ttoken_list = tokenizer.texts_to_sequences([seed_text])[0]\n",
        "\ttoken_list = pad_sequences([token_list], maxlen=max_sequence_len-1, padding='pre')\n",
        "\tpredicted =np.argmax(model.predict(token_list), axis=-1)\n",
        "\toutput_word = \"\"\n",
        "\tfor word, index in tokenizer.word_index.items():\n",
        "\t\tif index == predicted:\n",
        "\t\t\toutput_word = word\n",
        "\t\t\tbreak\n",
        "\tseed_text += \" \" + output_word\n",
        "print(seed_text)"
      ],
      "execution_count": 16,
      "outputs": [
        {
          "output_type": "stream",
          "text": [
            "Help me Obi Wan Kenobi, you're my only hope thy thoughts shall prove decay lie away behind true sight ' seen seen bow another moan away age and dost hence go beaten ground state there skill hence achieve hence none none he's adieu plot flowers quite nought thence skill aside tend did date about torn new sit dote as his side give store lived up cherish back up find ears out of seeming thine wrong inhearse bow dote back a dream must give another minds me on mind single ill ' ' stole out up repair meet from thee all his devil hate state leaves ' defeated gladly happy\n"
          ],
          "name": "stdout"
        }
      ]
    },
    {
      "cell_type": "code",
      "metadata": {
        "id": "-PIi1SUQiNrS"
      },
      "source": [
        ""
      ],
      "execution_count": null,
      "outputs": []
    }
  ]
}